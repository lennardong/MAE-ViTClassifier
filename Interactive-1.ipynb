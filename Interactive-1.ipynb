{
 "cells": [
  {
   "cell_type": "markdown",
   "metadata": {
    "isInteractiveWindowMessageCell": true
   },
   "source": [
    "Connected to neuralnet311 (Python 3.11.4)"
   ]
  },
  {
   "cell_type": "code",
   "execution_count": 1,
   "metadata": {},
   "outputs": [
    {
     "name": "stdout",
     "output_type": "stream",
     "text": [
      "eval_pScore.py\n"
     ]
    },
    {
     "ename": "",
     "evalue": "",
     "output_type": "error",
     "traceback": [
      "\u001b[1;31mThe Kernel crashed while executing code in the the current cell or a previous cell. Please review the code in the cell(s) to identify a possible cause of the failure. Click <a href='https://aka.ms/vscodeJupyterKernelCrash'>here</a> for more info. View Jupyter <a href='command:jupyter.viewOutput'>log</a> for further details."
     ]
    }
   ],
   "source": [
    "print(\"eval_pScore.py\")\n",
    "########################################################\n",
    "# Load Model\n",
    "########################################################\n",
    "\n",
    "import torch\n",
    "import matplotlib.pyplot as plt\n",
    "from transformers import ViTConfig, Trainer, TrainingArguments\n",
    "from main_vit_classifier import compute_metrics, ViTForImageClassificationFromScratch # Import the compute_metrics function from your previous script\n",
    "\n",
    "\n",
    "SAVE_PATH = './models/WBC_1_testv2_lossfix' \n",
    "# Path where the model was saved\n",
    "TEST_PATH = './data/WBC_100/val/data/'\n",
    "SAVED_MODEL_PATH = './models/WBC_10_saveModel'\n",
    "\n",
    "import json\n",
    "\n",
    "# Load the model config from a JSON file\n",
    "with open(SAVE_PATH + '/model_config.json', 'r') as f:\n",
    "    loaded_config_dict = json.load(f)\n",
    "\n",
    "loaded_config = ViTConfig.from_dict(loaded_config_dict)\n",
    "\n",
    "model = ViTForImageClassificationFromScratch(loaded_config)  # Initialize the model\n",
    "model.load_state_dict(torch.load(SAVE_PATH + '/model_state_dict.pth', map_location=torch.device('cpu')))\n",
    "\n",
    "# Make sure to call this if you plan to use the model for inference\n",
    "model.eval()\n",
    "print(model)"
   ]
  },
  {
   "cell_type": "code",
   "execution_count": null,
   "metadata": {},
   "outputs": [],
   "source": [
    "print(\"eval_pScore.py\")\n",
    "########################################################\n",
    "# Load Model\n",
    "########################################################\n",
    "\n",
    "import torch\n",
    "import matplotlib.pyplot as plt\n",
    "from transformers import ViTConfig, Trainer, TrainingArguments\n",
    "from main_vit_classifier import compute_metrics, ViTForImageClassificationFromScratch # Import the compute_metrics function from your previous script\n",
    "\n",
    "\n",
    "SAVE_PATH = './models/WBC_1_testv2_lossfix' \n",
    "# Path where the model was saved\n",
    "TEST_PATH = './data/WBC_100/val/data/'\n",
    "SAVED_MODEL_PATH = './models/WBC_10_saveModel'\n",
    "\n",
    "import json\n",
    "\n",
    "# Load the model config from a JSON file\n",
    "with open(SAVE_PATH + '/model_config.json', 'r') as f:\n",
    "    loaded_config_dict = json.load(f)\n",
    "\n",
    "loaded_config = ViTConfig.from_dict(loaded_config_dict)\n",
    "\n",
    "model = ViTForImageClassificationFromScratch(loaded_config)  # Initialize the model\n",
    "model.load_state_dict(torch.load(SAVE_PATH + '/model_state_dict.pth', map_location=torch.device('cpu')))\n",
    "\n",
    "# Make sure to call this if you plan to use the model for inference\n",
    "model.eval()\n",
    "# print(model)"
   ]
  },
  {
   "cell_type": "code",
   "execution_count": null,
   "metadata": {},
   "outputs": [],
   "source": [
    "model"
   ]
  }
 ],
 "metadata": {
  "kernelspec": {
   "display_name": "neuralnet311",
   "language": "python",
   "name": "python3"
  },
  "language_info": {
   "name": "python",
   "version": "3.11.4"
  }
 },
 "nbformat": 4,
 "nbformat_minor": 2
}
